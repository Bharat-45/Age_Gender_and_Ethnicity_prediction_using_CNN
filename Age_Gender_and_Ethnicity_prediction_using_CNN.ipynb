{
  "nbformat": 4,
  "nbformat_minor": 0,
  "metadata": {
    "kernelspec": {
      "display_name": "Python 3",
      "language": "python",
      "name": "python3"
    },
    "language_info": {
      "codemirror_mode": {
        "name": "ipython",
        "version": 3
      },
      "file_extension": ".py",
      "mimetype": "text/x-python",
      "name": "python",
      "nbconvert_exporter": "python",
      "pygments_lexer": "ipython3",
      "version": "3.8.3"
    },
    "colab": {
      "name": "Age Gender and Ethnicity prediction using CNN.ipynb",
      "provenance": []
    },
    "accelerator": "GPU"
  },
  "cells": [
    {
      "cell_type": "markdown",
      "metadata": {
        "id": "loPFzGwDwRQ3"
      },
      "source": [
        "# Bharat Ramchire (PGDA16)"
      ]
    },
    {
      "cell_type": "markdown",
      "metadata": {
        "id": "upbSrrd8wRRr"
      },
      "source": [
        "The Deep learning project to predict the age, gender and ethnicity of a person using CNN algorithm"
      ]
    },
    {
      "cell_type": "markdown",
      "metadata": {
        "id": "TbjokiKMwRRw"
      },
      "source": [
        "# dataset introduction"
      ]
    },
    {
      "cell_type": "markdown",
      "metadata": {
        "id": "dvH1CKhHwRRx"
      },
      "source": [
        "Age=Age of the person in the image\n",
        "\n",
        "Ethnicity=Specifies the ethnicity of the person\n",
        "\n",
        "Gender=Gender of the person\n",
        "0=Male 1=Female\n",
        "\n",
        "Pixels=Array to String of the image pixels"
      ]
    },
    {
      "cell_type": "markdown",
      "metadata": {
        "id": "Iae_k_EXwRRy"
      },
      "source": [
        "Importing required libraries"
      ]
    },
    {
      "cell_type": "code",
      "metadata": {
        "id": "GcmPZQcvwRRz"
      },
      "source": [
        "import numpy as np \n",
        "import pandas as pd \n",
        "import matplotlib.pyplot as plt\n",
        "import seaborn as sns\n",
        "sns.set()\n",
        "\n",
        "from keras.models import Sequential\n",
        "from keras.layers import Conv2D, Dropout, BatchNormalization, Flatten, Dense, MaxPooling2D\n",
        "from keras.utils import to_categorical\n",
        "from keras.callbacks import EarlyStopping, ReduceLROnPlateau\n",
        "from keras.optimizers import Adam\n",
        "\n",
        "from sklearn.metrics import mean_absolute_error, confusion_matrix, classification_report\n",
        "from sklearn.model_selection import train_test_split"
      ],
      "execution_count": 3,
      "outputs": []
    },
    {
      "cell_type": "markdown",
      "metadata": {
        "id": "yNj5jKLmwRR0"
      },
      "source": [
        "Reading the data"
      ]
    },
    {
      "cell_type": "code",
      "metadata": {
        "id": "krK4Hs6BwRR1"
      },
      "source": [
        "data = pd.read_csv('/content/drive/MyDrive/Bharat python/age_gender.csv')"
      ],
      "execution_count": 4,
      "outputs": []
    },
    {
      "cell_type": "code",
      "metadata": {
        "colab": {
          "base_uri": "https://localhost:8080/",
          "height": 199
        },
        "id": "viPUTJx8wRR1",
        "outputId": "54ca82e9-a745-4866-879a-3ff0b63d8c2e"
      },
      "source": [
        "data.head()"
      ],
      "execution_count": 5,
      "outputs": [
        {
          "output_type": "execute_result",
          "data": {
            "text/html": [
              "<div>\n",
              "<style scoped>\n",
              "    .dataframe tbody tr th:only-of-type {\n",
              "        vertical-align: middle;\n",
              "    }\n",
              "\n",
              "    .dataframe tbody tr th {\n",
              "        vertical-align: top;\n",
              "    }\n",
              "\n",
              "    .dataframe thead th {\n",
              "        text-align: right;\n",
              "    }\n",
              "</style>\n",
              "<table border=\"1\" class=\"dataframe\">\n",
              "  <thead>\n",
              "    <tr style=\"text-align: right;\">\n",
              "      <th></th>\n",
              "      <th>age</th>\n",
              "      <th>ethnicity</th>\n",
              "      <th>gender</th>\n",
              "      <th>img_name</th>\n",
              "      <th>pixels</th>\n",
              "    </tr>\n",
              "  </thead>\n",
              "  <tbody>\n",
              "    <tr>\n",
              "      <th>0</th>\n",
              "      <td>1</td>\n",
              "      <td>2</td>\n",
              "      <td>0</td>\n",
              "      <td>20161219203650636.jpg.chip.jpg</td>\n",
              "      <td>129 128 128 126 127 130 133 135 139 142 145 14...</td>\n",
              "    </tr>\n",
              "    <tr>\n",
              "      <th>1</th>\n",
              "      <td>1</td>\n",
              "      <td>2</td>\n",
              "      <td>0</td>\n",
              "      <td>20161219222752047.jpg.chip.jpg</td>\n",
              "      <td>164 74 111 168 169 171 175 182 184 188 193 199...</td>\n",
              "    </tr>\n",
              "    <tr>\n",
              "      <th>2</th>\n",
              "      <td>1</td>\n",
              "      <td>2</td>\n",
              "      <td>0</td>\n",
              "      <td>20161219222832191.jpg.chip.jpg</td>\n",
              "      <td>67 70 71 70 69 67 70 79 90 103 116 132 145 155...</td>\n",
              "    </tr>\n",
              "    <tr>\n",
              "      <th>3</th>\n",
              "      <td>1</td>\n",
              "      <td>2</td>\n",
              "      <td>0</td>\n",
              "      <td>20161220144911423.jpg.chip.jpg</td>\n",
              "      <td>193 197 198 200 199 200 202 203 204 205 208 21...</td>\n",
              "    </tr>\n",
              "    <tr>\n",
              "      <th>4</th>\n",
              "      <td>1</td>\n",
              "      <td>2</td>\n",
              "      <td>0</td>\n",
              "      <td>20161220144914327.jpg.chip.jpg</td>\n",
              "      <td>202 205 209 210 209 209 210 211 212 214 218 21...</td>\n",
              "    </tr>\n",
              "  </tbody>\n",
              "</table>\n",
              "</div>"
            ],
            "text/plain": [
              "   age  ...                                             pixels\n",
              "0    1  ...  129 128 128 126 127 130 133 135 139 142 145 14...\n",
              "1    1  ...  164 74 111 168 169 171 175 182 184 188 193 199...\n",
              "2    1  ...  67 70 71 70 69 67 70 79 90 103 116 132 145 155...\n",
              "3    1  ...  193 197 198 200 199 200 202 203 204 205 208 21...\n",
              "4    1  ...  202 205 209 210 209 209 210 211 212 214 218 21...\n",
              "\n",
              "[5 rows x 5 columns]"
            ]
          },
          "metadata": {
            "tags": []
          },
          "execution_count": 5
        }
      ]
    },
    {
      "cell_type": "code",
      "metadata": {
        "colab": {
          "base_uri": "https://localhost:8080/",
          "height": 139
        },
        "id": "1u7-Wb7UwRR3",
        "outputId": "8756e7a2-68a6-4faa-80cb-63bb0b47b1b5"
      },
      "source": [
        "data.describe().transpose()"
      ],
      "execution_count": 6,
      "outputs": [
        {
          "output_type": "execute_result",
          "data": {
            "text/html": [
              "<div>\n",
              "<style scoped>\n",
              "    .dataframe tbody tr th:only-of-type {\n",
              "        vertical-align: middle;\n",
              "    }\n",
              "\n",
              "    .dataframe tbody tr th {\n",
              "        vertical-align: top;\n",
              "    }\n",
              "\n",
              "    .dataframe thead th {\n",
              "        text-align: right;\n",
              "    }\n",
              "</style>\n",
              "<table border=\"1\" class=\"dataframe\">\n",
              "  <thead>\n",
              "    <tr style=\"text-align: right;\">\n",
              "      <th></th>\n",
              "      <th>count</th>\n",
              "      <th>mean</th>\n",
              "      <th>std</th>\n",
              "      <th>min</th>\n",
              "      <th>25%</th>\n",
              "      <th>50%</th>\n",
              "      <th>75%</th>\n",
              "      <th>max</th>\n",
              "    </tr>\n",
              "  </thead>\n",
              "  <tbody>\n",
              "    <tr>\n",
              "      <th>age</th>\n",
              "      <td>23705.0</td>\n",
              "      <td>33.300907</td>\n",
              "      <td>19.885708</td>\n",
              "      <td>1.0</td>\n",
              "      <td>23.0</td>\n",
              "      <td>29.0</td>\n",
              "      <td>45.0</td>\n",
              "      <td>116.0</td>\n",
              "    </tr>\n",
              "    <tr>\n",
              "      <th>ethnicity</th>\n",
              "      <td>23705.0</td>\n",
              "      <td>1.269226</td>\n",
              "      <td>1.345638</td>\n",
              "      <td>0.0</td>\n",
              "      <td>0.0</td>\n",
              "      <td>1.0</td>\n",
              "      <td>2.0</td>\n",
              "      <td>4.0</td>\n",
              "    </tr>\n",
              "    <tr>\n",
              "      <th>gender</th>\n",
              "      <td>23705.0</td>\n",
              "      <td>0.477283</td>\n",
              "      <td>0.499494</td>\n",
              "      <td>0.0</td>\n",
              "      <td>0.0</td>\n",
              "      <td>0.0</td>\n",
              "      <td>1.0</td>\n",
              "      <td>1.0</td>\n",
              "    </tr>\n",
              "  </tbody>\n",
              "</table>\n",
              "</div>"
            ],
            "text/plain": [
              "             count       mean        std  min   25%   50%   75%    max\n",
              "age        23705.0  33.300907  19.885708  1.0  23.0  29.0  45.0  116.0\n",
              "ethnicity  23705.0   1.269226   1.345638  0.0   0.0   1.0   2.0    4.0\n",
              "gender     23705.0   0.477283   0.499494  0.0   0.0   0.0   1.0    1.0"
            ]
          },
          "metadata": {
            "tags": []
          },
          "execution_count": 6
        }
      ]
    },
    {
      "cell_type": "code",
      "metadata": {
        "colab": {
          "base_uri": "https://localhost:8080/"
        },
        "id": "fWaksN2wwRR4",
        "outputId": "7eac9b73-d0c2-4f9d-e363-9b815c7b6d10"
      },
      "source": [
        "data.info()"
      ],
      "execution_count": 7,
      "outputs": [
        {
          "output_type": "stream",
          "text": [
            "<class 'pandas.core.frame.DataFrame'>\n",
            "RangeIndex: 23705 entries, 0 to 23704\n",
            "Data columns (total 5 columns):\n",
            " #   Column     Non-Null Count  Dtype \n",
            "---  ------     --------------  ----- \n",
            " 0   age        23705 non-null  int64 \n",
            " 1   ethnicity  23705 non-null  int64 \n",
            " 2   gender     23705 non-null  int64 \n",
            " 3   img_name   23705 non-null  object\n",
            " 4   pixels     23705 non-null  object\n",
            "dtypes: int64(3), object(2)\n",
            "memory usage: 926.1+ KB\n"
          ],
          "name": "stdout"
        }
      ]
    },
    {
      "cell_type": "code",
      "metadata": {
        "colab": {
          "base_uri": "https://localhost:8080/"
        },
        "id": "HsOuF2RDwRR5",
        "outputId": "e5b30e03-37d0-44d6-d822-af0bae966881"
      },
      "source": [
        "data.isna().sum()"
      ],
      "execution_count": 8,
      "outputs": [
        {
          "output_type": "execute_result",
          "data": {
            "text/plain": [
              "age          0\n",
              "ethnicity    0\n",
              "gender       0\n",
              "img_name     0\n",
              "pixels       0\n",
              "dtype: int64"
            ]
          },
          "metadata": {
            "tags": []
          },
          "execution_count": 8
        }
      ]
    },
    {
      "cell_type": "code",
      "metadata": {
        "id": "6QLt6jhFwRR6"
      },
      "source": [
        "# Basic EDA and visualaization of the data"
      ],
      "execution_count": 9,
      "outputs": []
    },
    {
      "cell_type": "code",
      "metadata": {
        "colab": {
          "base_uri": "https://localhost:8080/",
          "height": 340
        },
        "id": "ihdU-ecFwRR6",
        "outputId": "19894b5a-22e1-4be6-d0da-6bbcc082c614"
      },
      "source": [
        "# Age\n",
        "sns.distplot(data['age']);"
      ],
      "execution_count": 10,
      "outputs": [
        {
          "output_type": "stream",
          "text": [
            "/usr/local/lib/python3.7/dist-packages/seaborn/distributions.py:2557: FutureWarning: `distplot` is a deprecated function and will be removed in a future version. Please adapt your code to use either `displot` (a figure-level function with similar flexibility) or `histplot` (an axes-level function for histograms).\n",
            "  warnings.warn(msg, FutureWarning)\n"
          ],
          "name": "stderr"
        },
        {
          "output_type": "display_data",
          "data": {
            "image/png": "[encoded data removed]",
            "text/plain": [
              "<Figure size 432x288 with 1 Axes>"
            ]
          },
          "metadata": {
            "tags": []
          }
        }
      ]
    },
    {
      "cell_type": "code",
      "metadata": {
        "colab": {
          "base_uri": "https://localhost:8080/",
          "height": 340
        },
        "id": "dyz9PV32wRR7",
        "outputId": "379e3849-a7ff-42f5-8f2c-06c3d0160607"
      },
      "source": [
        "# Ethnicity\n",
        "sns.countplot(data['ethnicity']);"
      ],
      "execution_count": 11,
      "outputs": [
        {
          "output_type": "stream",
          "text": [
            "/usr/local/lib/python3.7/dist-packages/seaborn/_decorators.py:43: FutureWarning: Pass the following variable as a keyword arg: x. From version 0.12, the only valid positional argument will be `data`, and passing other arguments without an explicit keyword will result in an error or misinterpretation.\n",
            "  FutureWarning\n"
          ],
          "name": "stderr"
        },
        {
          "output_type": "display_data",
          "data": {
            "image/png": "[encoded data removed]",
            "text/plain": [
              "<Figure size 432x288 with 1 Axes>"
            ]
          },
          "metadata": {
            "tags": []
          }
        }
      ]
    },
    {
      "cell_type": "code",
      "metadata": {
        "colab": {
          "base_uri": "https://localhost:8080/",
          "height": 340
        },
        "id": "9tVzpILhwRR8",
        "outputId": "d8b06314-4cda-4e7c-8685-d90fb0834d3a"
      },
      "source": [
        "# Gender\n",
        "sns.countplot(data['gender']);"
      ],
      "execution_count": 12,
      "outputs": [
        {
          "output_type": "stream",
          "text": [
            "/usr/local/lib/python3.7/dist-packages/seaborn/_decorators.py:43: FutureWarning: Pass the following variable as a keyword arg: x. From version 0.12, the only valid positional argument will be `data`, and passing other arguments without an explicit keyword will result in an error or misinterpretation.\n",
            "  FutureWarning\n"
          ],
          "name": "stderr"
        },
        {
          "output_type": "display_data",
          "data": {
            "image/png": "[encoded data removed]",
            "text/plain": [
              "<Figure size 432x288 with 1 Axes>"
            ]
          },
          "metadata": {
            "tags": []
          }
        }
      ]
    },
    {
      "cell_type": "code",
      "metadata": {
        "id": "nE8QC6LFwRR9"
      },
      "source": [
        "import plotly.graph_objects as go"
      ],
      "execution_count": 13,
      "outputs": []
    },
    {
      "cell_type": "code",
      "metadata": {
        "colab": {
          "base_uri": "https://localhost:8080/",
          "height": 542
        },
        "id": "Ev5yl_F5wRR9",
        "outputId": "36dcebc9-6f17-45a0-cefc-f2bc23dcc9f5"
      },
      "source": [
        "df_ethnicity=data['ethnicity'].value_counts().to_frame().reset_index().rename(columns={'index':'ethnicity','ethnicity':'count'})\n",
        "\n",
        "colors=['cyan','royalblue','blue','darkblue',\"darkcyan\"]\n",
        "fig = go.Figure([go.Pie(labels=df_ethnicity['ethnicity'], values=df_ethnicity['count'])])\n",
        "fig.update_traces(hoverinfo='label+percent', textinfo='percent+value', textfont_size=15,\n",
        "                 marker=dict(colors=colors, line=dict(color='#000000', width=2)))\n",
        "fig.update_layout(title=\"Ethnicity Distribution\",title_x=0.5)\n",
        "fig.show()"
      ],
      "execution_count": 14,
      "outputs": [
        {
          "output_type": "display_data",
          "data": {
            "text/html": [
              "<html>\n",
              "<head><meta charset=\"utf-8\" /></head>\n",
              "<body>\n",
              "    <div>\n",
              "            <script src=\"https://cdnjs.cloudflare.com/ajax/libs/mathjax/2.7.5/MathJax.js?config=TeX-AMS-MML_SVG\"></script><script type=\"text/javascript\">if (window.MathJax) {MathJax.Hub.Config({SVG: {font: \"STIX-Web\"}});}</script>\n",
              "                <script type=\"text/javascript\">window.PlotlyConfig = {MathJaxConfig: 'local'};</script>\n",
              "        <script src=\"https://cdn.plot.ly/plotly-latest.min.js\"></script>    \n",
              "            <div id=\"400243d8-6847-46d8-aebc-c83a111929e0\" class=\"plotly-graph-div\" style=\"height:525px; width:100%;\"></div>\n",
              "            <script type=\"text/javascript\">\n",
              "                \n",
              "                    window.PLOTLYENV=window.PLOTLYENV || {};\n",
              "                    \n",
              "                if (document.getElementById(\"400243d8-6847-46d8-aebc-c83a111929e0\")) {\n",
              "                    Plotly.newPlot(\n",
              "                        '400243d8-6847-46d8-aebc-c83a111929e0',\n",
              "                        [{\"hoverinfo\": \"label+percent\", \"labels\": [0, 1, 3, 2, 4], \"marker\": {\"colors\": [\"cyan\", \"royalblue\", \"blue\", \"darkblue\", \"darkcyan\"], \"line\": {\"color\": \"#000000\", \"width\": 2}}, \"textfont\": {\"size\": 15}, \"textinfo\": \"percent+value\", \"type\": \"pie\", \"values\": [10078, 4526, 3975, 3434, 1692]}],\n",
              "                        {\"template\": {\"data\": {\"bar\": [{\"error_x\": {\"color\": \"#2a3f5f\"}, \"error_y\": {\"color\": \"#2a3f5f\"}, \"marker\": {\"line\": {\"color\": \"#E5ECF6\", \"width\": 0.5}}, \"type\": \"bar\"}], \"barpolar\": [{\"marker\": {\"line\": {\"color\": \"#E5ECF6\", \"width\": 0.5}}, \"type\": \"barpolar\"}], \"carpet\": [{\"aaxis\": {\"endlinecolor\": \"#2a3f5f\", \"gridcolor\": \"white\", \"linecolor\": \"white\", \"minorgridcolor\": \"white\", \"startlinecolor\": \"#2a3f5f\"}, \"baxis\": {\"endlinecolor\": \"#2a3f5f\", \"gridcolor\": \"white\", \"linecolor\": \"white\", \"minorgridcolor\": \"white\", \"startlinecolor\": \"#2a3f5f\"}, \"type\": \"carpet\"}], \"choropleth\": [{\"colorbar\": {\"outlinewidth\": 0, \"ticks\": \"\"}, \"type\": \"choropleth\"}], \"contour\": [{\"colorbar\": {\"outlinewidth\": 0, \"ticks\": \"\"}, \"colorscale\": [[0.0, \"#0d0887\"], [0.1111111111111111, \"#46039f\"], [0.2222222222222222, \"#7201a8\"], [0.3333333333333333, \"#9c179e\"], [0.4444444444444444, \"#bd3786\"], [0.5555555555555556, \"#d8576b\"], [0.6666666666666666, \"#ed7953\"], [0.7777777777777778, \"#fb9f3a\"], [0.8888888888888888, \"#fdca26\"], [1.0, \"#f0f921\"]], \"type\": \"contour\"}], \"contourcarpet\": [{\"colorbar\": {\"outlinewidth\": 0, \"ticks\": \"\"}, \"type\": \"contourcarpet\"}], \"heatmap\": [{\"colorbar\": {\"outlinewidth\": 0, \"ticks\": \"\"}, \"colorscale\": [[0.0, \"#0d0887\"], [0.1111111111111111, \"#46039f\"], [0.2222222222222222, \"#7201a8\"], [0.3333333333333333, \"#9c179e\"], [0.4444444444444444, \"#bd3786\"], [0.5555555555555556, \"#d8576b\"], [0.6666666666666666, \"#ed7953\"], [0.7777777777777778, \"#fb9f3a\"], [0.8888888888888888, \"#fdca26\"], [1.0, \"#f0f921\"]], \"type\": \"heatmap\"}], \"heatmapgl\": [{\"colorbar\": {\"outlinewidth\": 0, \"ticks\": \"\"}, \"colorscale\": [[0.0, \"#0d0887\"], [0.1111111111111111, \"#46039f\"], [0.2222222222222222, \"#7201a8\"], [0.3333333333333333, \"#9c179e\"], [0.4444444444444444, \"#bd3786\"], [0.5555555555555556, \"#d8576b\"], [0.6666666666666666, \"#ed7953\"], [0.7777777777777778, \"#fb9f3a\"], [0.8888888888888888, \"#fdca26\"], [1.0, \"#f0f921\"]], \"type\": \"heatmapgl\"}], \"histogram\": [{\"marker\": {\"colorbar\": {\"outlinewidth\": 0, \"ticks\": \"\"}}, \"type\": \"histogram\"}], \"histogram2d\": [{\"colorbar\": {\"outlinewidth\": 0, \"ticks\": \"\"}, \"colorscale\": [[0.0, \"#0d0887\"], [0.1111111111111111, \"#46039f\"], [0.2222222222222222, \"#7201a8\"], [0.3333333333333333, \"#9c179e\"], [0.4444444444444444, \"#bd3786\"], [0.5555555555555556, \"#d8576b\"], [0.6666666666666666, \"#ed7953\"], [0.7777777777777778, \"#fb9f3a\"], [0.8888888888888888, \"#fdca26\"], [1.0, \"#f0f921\"]], \"type\": \"histogram2d\"}], \"histogram2dcontour\": [{\"colorbar\": {\"outlinewidth\": 0, \"ticks\": \"\"}, \"colorscale\": [[0.0, \"#0d0887\"], [0.1111111111111111, \"#46039f\"], [0.2222222222222222, \"#7201a8\"], [0.3333333333333333, \"#9c179e\"], [0.4444444444444444, \"#bd3786\"], [0.5555555555555556, \"#d8576b\"], [0.6666666666666666, \"#ed7953\"], [0.7777777777777778, \"#fb9f3a\"], [0.8888888888888888, \"#fdca26\"], [1.0, \"#f0f921\"]], \"type\": \"histogram2dcontour\"}], \"mesh3d\": [{\"colorbar\": {\"outlinewidth\": 0, \"ticks\": \"\"}, \"type\": \"mesh3d\"}], \"parcoords\": [{\"line\": {\"colorbar\": {\"outlinewidth\": 0, \"ticks\": \"\"}}, \"type\": \"parcoords\"}], \"pie\": [{\"automargin\": true, \"type\": \"pie\"}], \"scatter\": [{\"marker\": {\"colorbar\": {\"outlinewidth\": 0, \"ticks\": \"\"}}, \"type\": \"scatter\"}], \"scatter3d\": [{\"line\": {\"colorbar\": {\"outlinewidth\": 0, \"ticks\": \"\"}}, \"marker\": {\"colorbar\": {\"outlinewidth\": 0, \"ticks\": \"\"}}, \"type\": \"scatter3d\"}], \"scattercarpet\": [{\"marker\": {\"colorbar\": {\"outlinewidth\": 0, \"ticks\": \"\"}}, \"type\": \"scattercarpet\"}], \"scattergeo\": [{\"marker\": {\"colorbar\": {\"outlinewidth\": 0, \"ticks\": \"\"}}, \"type\": \"scattergeo\"}], \"scattergl\": [{\"marker\": {\"colorbar\": {\"outlinewidth\": 0, \"ticks\": \"\"}}, \"type\": \"scattergl\"}], \"scattermapbox\": [{\"marker\": {\"colorbar\": {\"outlinewidth\": 0, \"ticks\": \"\"}}, \"type\": \"scattermapbox\"}], \"scatterpolar\": [{\"marker\": {\"colorbar\": {\"outlinewidth\": 0, \"ticks\": \"\"}}, \"type\": \"scatterpolar\"}], \"scatterpolargl\": [{\"marker\": {\"colorbar\": {\"outlinewidth\": 0, \"ticks\": \"\"}}, \"type\": \"scatterpolargl\"}], \"scatterternary\": [{\"marker\": {\"colorbar\": {\"outlinewidth\": 0, \"ticks\": \"\"}}, \"type\": \"scatterternary\"}], \"surface\": [{\"colorbar\": {\"outlinewidth\": 0, \"ticks\": \"\"}, \"colorscale\": [[0.0, \"#0d0887\"], [0.1111111111111111, \"#46039f\"], [0.2222222222222222, \"#7201a8\"], [0.3333333333333333, \"#9c179e\"], [0.4444444444444444, \"#bd3786\"], [0.5555555555555556, \"#d8576b\"], [0.6666666666666666, \"#ed7953\"], [0.7777777777777778, \"#fb9f3a\"], [0.8888888888888888, \"#fdca26\"], [1.0, \"#f0f921\"]], \"type\": \"surface\"}], \"table\": [{\"cells\": {\"fill\": {\"color\": \"#EBF0F8\"}, \"line\": {\"color\": \"white\"}}, \"header\": {\"fill\": {\"color\": \"#C8D4E3\"}, \"line\": {\"color\": \"white\"}}, \"type\": \"table\"}]}, \"layout\": {\"annotationdefaults\": {\"arrowcolor\": \"#2a3f5f\", \"arrowhead\": 0, \"arrowwidth\": 1}, \"coloraxis\": {\"colorbar\": {\"outlinewidth\": 0, \"ticks\": \"\"}}, \"colorscale\": {\"diverging\": [[0, \"#8e0152\"], [0.1, \"#c51b7d\"], [0.2, \"#de77ae\"], [0.3, \"#f1b6da\"], [0.4, \"#fde0ef\"], [0.5, \"#f7f7f7\"], [0.6, \"#e6f5d0\"], [0.7, \"#b8e186\"], [0.8, \"#7fbc41\"], [0.9, \"#4d9221\"], [1, \"#276419\"]], \"sequential\": [[0.0, \"#0d0887\"], [0.1111111111111111, \"#46039f\"], [0.2222222222222222, \"#7201a8\"], [0.3333333333333333, \"#9c179e\"], [0.4444444444444444, \"#bd3786\"], [0.5555555555555556, \"#d8576b\"], [0.6666666666666666, \"#ed7953\"], [0.7777777777777778, \"#fb9f3a\"], [0.8888888888888888, \"#fdca26\"], [1.0, \"#f0f921\"]], \"sequentialminus\": [[0.0, \"#0d0887\"], [0.1111111111111111, \"#46039f\"], [0.2222222222222222, \"#7201a8\"], [0.3333333333333333, \"#9c179e\"], [0.4444444444444444, \"#bd3786\"], [0.5555555555555556, \"#d8576b\"], [0.6666666666666666, \"#ed7953\"], [0.7777777777777778, \"#fb9f3a\"], [0.8888888888888888, \"#fdca26\"], [1.0, \"#f0f921\"]]}, \"colorway\": [\"#636efa\", \"#EF553B\", \"#00cc96\", \"#ab63fa\", \"#FFA15A\", \"#19d3f3\", \"#FF6692\", \"#B6E880\", \"#FF97FF\", \"#FECB52\"], \"font\": {\"color\": \"#2a3f5f\"}, \"geo\": {\"bgcolor\": \"white\", \"lakecolor\": \"white\", \"landcolor\": \"#E5ECF6\", \"showlakes\": true, \"showland\": true, \"subunitcolor\": \"white\"}, \"hoverlabel\": {\"align\": \"left\"}, \"hovermode\": \"closest\", \"mapbox\": {\"style\": \"light\"}, \"paper_bgcolor\": \"white\", \"plot_bgcolor\": \"#E5ECF6\", \"polar\": {\"angularaxis\": {\"gridcolor\": \"white\", \"linecolor\": \"white\", \"ticks\": \"\"}, \"bgcolor\": \"#E5ECF6\", \"radialaxis\": {\"gridcolor\": \"white\", \"linecolor\": \"white\", \"ticks\": \"\"}}, \"scene\": {\"xaxis\": {\"backgroundcolor\": \"#E5ECF6\", \"gridcolor\": \"white\", \"gridwidth\": 2, \"linecolor\": \"white\", \"showbackground\": true, \"ticks\": \"\", \"zerolinecolor\": \"white\"}, \"yaxis\": {\"backgroundcolor\": \"#E5ECF6\", \"gridcolor\": \"white\", \"gridwidth\": 2, \"linecolor\": \"white\", \"showbackground\": true, \"ticks\": \"\", \"zerolinecolor\": \"white\"}, \"zaxis\": {\"backgroundcolor\": \"#E5ECF6\", \"gridcolor\": \"white\", \"gridwidth\": 2, \"linecolor\": \"white\", \"showbackground\": true, \"ticks\": \"\", \"zerolinecolor\": \"white\"}}, \"shapedefaults\": {\"line\": {\"color\": \"#2a3f5f\"}}, \"ternary\": {\"aaxis\": {\"gridcolor\": \"white\", \"linecolor\": \"white\", \"ticks\": \"\"}, \"baxis\": {\"gridcolor\": \"white\", \"linecolor\": \"white\", \"ticks\": \"\"}, \"bgcolor\": \"#E5ECF6\", \"caxis\": {\"gridcolor\": \"white\", \"linecolor\": \"white\", \"ticks\": \"\"}}, \"title\": {\"x\": 0.05}, \"xaxis\": {\"automargin\": true, \"gridcolor\": \"white\", \"linecolor\": \"white\", \"ticks\": \"\", \"title\": {\"standoff\": 15}, \"zerolinecolor\": \"white\", \"zerolinewidth\": 2}, \"yaxis\": {\"automargin\": true, \"gridcolor\": \"white\", \"linecolor\": \"white\", \"ticks\": \"\", \"title\": {\"standoff\": 15}, \"zerolinecolor\": \"white\", \"zerolinewidth\": 2}}}, \"title\": {\"text\": \"Ethnicity Distribution\", \"x\": 0.5}},\n",
              "                        {\"responsive\": true}\n",
              "                    ).then(function(){\n",
              "                            \n",
              "var gd = document.getElementById('400243d8-6847-46d8-aebc-c83a111929e0');\n",
              "var x = new MutationObserver(function (mutations, observer) {{\n",
              "        var display = window.getComputedStyle(gd).display;\n",
              "        if (!display || display === 'none') {{\n",
              "            console.log([gd, 'removed!']);\n",
              "            Plotly.purge(gd);\n",
              "            observer.disconnect();\n",
              "        }}\n",
              "}});\n",
              "\n",
              "// Listen for the removal of the full notebook cells\n",
              "var notebookContainer = gd.closest('#notebook-container');\n",
              "if (notebookContainer) {{\n",
              "    x.observe(notebookContainer, {childList: true});\n",
              "}}\n",
              "\n",
              "// Listen for the clearing of the current output cell\n",
              "var outputEl = gd.closest('.output');\n",
              "if (outputEl) {{\n",
              "    x.observe(outputEl, {childList: true});\n",
              "}}\n",
              "\n",
              "                        })\n",
              "                };\n",
              "                \n",
              "            </script>\n",
              "        </div>\n",
              "</body>\n",
              "</html>"
            ]
          },
          "metadata": {
            "tags": []
          }
        }
      ]
    },
    {
      "cell_type": "markdown",
      "metadata": {
        "id": "yRZhfJUbwRSM"
      },
      "source": [
        "Gender count"
      ]
    },
    {
      "cell_type": "code",
      "metadata": {
        "colab": {
          "base_uri": "https://localhost:8080/",
          "height": 542
        },
        "id": "jn_EElj9wRSN",
        "outputId": "87b8db3d-4fda-4846-da0c-00de4b808dd5"
      },
      "source": [
        "df_gender=data['gender'].value_counts().to_frame().reset_index().rename(columns={'index':'gender','gender':'count'})\n",
        "\n",
        "\n",
        "fig = go.Figure([go.Pie(labels=df_gender['gender'], values=df_gender['count'])])\n",
        "fig.update_layout(title=\"Gender Count\",title_x=0.5)\n",
        "fig.show()"
      ],
      "execution_count": 59,
      "outputs": [
        {
          "output_type": "display_data",
          "data": {
            "text/html": [
              "<html>\n",
              "<head><meta charset=\"utf-8\" /></head>\n",
              "<body>\n",
              "    <div>\n",
              "            <script src=\"https://cdnjs.cloudflare.com/ajax/libs/mathjax/2.7.5/MathJax.js?config=TeX-AMS-MML_SVG\"></script><script type=\"text/javascript\">if (window.MathJax) {MathJax.Hub.Config({SVG: {font: \"STIX-Web\"}});}</script>\n",
              "                <script type=\"text/javascript\">window.PlotlyConfig = {MathJaxConfig: 'local'};</script>\n",
              "        <script src=\"https://cdn.plot.ly/plotly-latest.min.js\"></script>    \n",
              "            <div id=\"bdf2f02e-fe7d-432b-9fed-291d4b29280e\" class=\"plotly-graph-div\" style=\"height:525px; width:100%;\"></div>\n",
              "            <script type=\"text/javascript\">\n",
              "                \n",
              "                    window.PLOTLYENV=window.PLOTLYENV || {};\n",
              "                    \n",
              "                if (document.getElementById(\"bdf2f02e-fe7d-432b-9fed-291d4b29280e\")) {\n",
              "                    Plotly.newPlot(\n",
              "                        'bdf2f02e-fe7d-432b-9fed-291d4b29280e',\n",
              "                        [{\"labels\": [0, 1], \"type\": \"pie\", \"values\": [12391, 11314]}],\n",
              "                        {\"template\": {\"data\": {\"bar\": [{\"error_x\": {\"color\": \"#2a3f5f\"}, \"error_y\": {\"color\": \"#2a3f5f\"}, \"marker\": {\"line\": {\"color\": \"#E5ECF6\", \"width\": 0.5}}, \"type\": \"bar\"}], \"barpolar\": [{\"marker\": {\"line\": {\"color\": \"#E5ECF6\", \"width\": 0.5}}, \"type\": \"barpolar\"}], \"carpet\": [{\"aaxis\": {\"endlinecolor\": \"#2a3f5f\", \"gridcolor\": \"white\", \"linecolor\": \"white\", \"minorgridcolor\": \"white\", \"startlinecolor\": \"#2a3f5f\"}, \"baxis\": {\"endlinecolor\": \"#2a3f5f\", \"gridcolor\": \"white\", \"linecolor\": \"white\", \"minorgridcolor\": \"white\", \"startlinecolor\": \"#2a3f5f\"}, \"type\": \"carpet\"}], \"choropleth\": [{\"colorbar\": {\"outlinewidth\": 0, \"ticks\": \"\"}, \"type\": \"choropleth\"}], \"contour\": [{\"colorbar\": {\"outlinewidth\": 0, \"ticks\": \"\"}, \"colorscale\": [[0.0, \"#0d0887\"], [0.1111111111111111, \"#46039f\"], [0.2222222222222222, \"#7201a8\"], [0.3333333333333333, \"#9c179e\"], [0.4444444444444444, \"#bd3786\"], [0.5555555555555556, \"#d8576b\"], [0.6666666666666666, \"#ed7953\"], [0.7777777777777778, \"#fb9f3a\"], [0.8888888888888888, \"#fdca26\"], [1.0, \"#f0f921\"]], \"type\": \"contour\"}], \"contourcarpet\": [{\"colorbar\": {\"outlinewidth\": 0, \"ticks\": \"\"}, \"type\": \"contourcarpet\"}], \"heatmap\": [{\"colorbar\": {\"outlinewidth\": 0, \"ticks\": \"\"}, \"colorscale\": [[0.0, \"#0d0887\"], [0.1111111111111111, \"#46039f\"], [0.2222222222222222, \"#7201a8\"], [0.3333333333333333, \"#9c179e\"], [0.4444444444444444, \"#bd3786\"], [0.5555555555555556, \"#d8576b\"], [0.6666666666666666, \"#ed7953\"], [0.7777777777777778, \"#fb9f3a\"], [0.8888888888888888, \"#fdca26\"], [1.0, \"#f0f921\"]], \"type\": \"heatmap\"}], \"heatmapgl\": [{\"colorbar\": {\"outlinewidth\": 0, \"ticks\": \"\"}, \"colorscale\": [[0.0, \"#0d0887\"], [0.1111111111111111, \"#46039f\"], [0.2222222222222222, \"#7201a8\"], [0.3333333333333333, \"#9c179e\"], [0.4444444444444444, \"#bd3786\"], [0.5555555555555556, \"#d8576b\"], [0.6666666666666666, \"#ed7953\"], [0.7777777777777778, \"#fb9f3a\"], [0.8888888888888888, \"#fdca26\"], [1.0, \"#f0f921\"]], \"type\": \"heatmapgl\"}], \"histogram\": [{\"marker\": {\"colorbar\": {\"outlinewidth\": 0, \"ticks\": \"\"}}, \"type\": \"histogram\"}], \"histogram2d\": [{\"colorbar\": {\"outlinewidth\": 0, \"ticks\": \"\"}, \"colorscale\": [[0.0, \"#0d0887\"], [0.1111111111111111, \"#46039f\"], [0.2222222222222222, \"#7201a8\"], [0.3333333333333333, \"#9c179e\"], [0.4444444444444444, \"#bd3786\"], [0.5555555555555556, \"#d8576b\"], [0.6666666666666666, \"#ed7953\"], [0.7777777777777778, \"#fb9f3a\"], [0.8888888888888888, \"#fdca26\"], [1.0, \"#f0f921\"]], \"type\": \"histogram2d\"}], \"histogram2dcontour\": [{\"colorbar\": {\"outlinewidth\": 0, \"ticks\": \"\"}, \"colorscale\": [[0.0, \"#0d0887\"], [0.1111111111111111, \"#46039f\"], [0.2222222222222222, \"#7201a8\"], [0.3333333333333333, \"#9c179e\"], [0.4444444444444444, \"#bd3786\"], [0.5555555555555556, \"#d8576b\"], [0.6666666666666666, \"#ed7953\"], [0.7777777777777778, \"#fb9f3a\"], [0.8888888888888888, \"#fdca26\"], [1.0, \"#f0f921\"]], \"type\": \"histogram2dcontour\"}], \"mesh3d\": [{\"colorbar\": {\"outlinewidth\": 0, \"ticks\": \"\"}, \"type\": \"mesh3d\"}], \"parcoords\": [{\"line\": {\"colorbar\": {\"outlinewidth\": 0, \"ticks\": \"\"}}, \"type\": \"parcoords\"}], \"pie\": [{\"automargin\": true, \"type\": \"pie\"}], \"scatter\": [{\"marker\": {\"colorbar\": {\"outlinewidth\": 0, \"ticks\": \"\"}}, \"type\": \"scatter\"}], \"scatter3d\": [{\"line\": {\"colorbar\": {\"outlinewidth\": 0, \"ticks\": \"\"}}, \"marker\": {\"colorbar\": {\"outlinewidth\": 0, \"ticks\": \"\"}}, \"type\": \"scatter3d\"}], \"scattercarpet\": [{\"marker\": {\"colorbar\": {\"outlinewidth\": 0, \"ticks\": \"\"}}, \"type\": \"scattercarpet\"}], \"scattergeo\": [{\"marker\": {\"colorbar\": {\"outlinewidth\": 0, \"ticks\": \"\"}}, \"type\": \"scattergeo\"}], \"scattergl\": [{\"marker\": {\"colorbar\": {\"outlinewidth\": 0, \"ticks\": \"\"}}, \"type\": \"scattergl\"}], \"scattermapbox\": [{\"marker\": {\"colorbar\": {\"outlinewidth\": 0, \"ticks\": \"\"}}, \"type\": \"scattermapbox\"}], \"scatterpolar\": [{\"marker\": {\"colorbar\": {\"outlinewidth\": 0, \"ticks\": \"\"}}, \"type\": \"scatterpolar\"}], \"scatterpolargl\": [{\"marker\": {\"colorbar\": {\"outlinewidth\": 0, \"ticks\": \"\"}}, \"type\": \"scatterpolargl\"}], \"scatterternary\": [{\"marker\": {\"colorbar\": {\"outlinewidth\": 0, \"ticks\": \"\"}}, \"type\": \"scatterternary\"}], \"surface\": [{\"colorbar\": {\"outlinewidth\": 0, \"ticks\": \"\"}, \"colorscale\": [[0.0, \"#0d0887\"], [0.1111111111111111, \"#46039f\"], [0.2222222222222222, \"#7201a8\"], [0.3333333333333333, \"#9c179e\"], [0.4444444444444444, \"#bd3786\"], [0.5555555555555556, \"#d8576b\"], [0.6666666666666666, \"#ed7953\"], [0.7777777777777778, \"#fb9f3a\"], [0.8888888888888888, \"#fdca26\"], [1.0, \"#f0f921\"]], \"type\": \"surface\"}], \"table\": [{\"cells\": {\"fill\": {\"color\": \"#EBF0F8\"}, \"line\": {\"color\": \"white\"}}, \"header\": {\"fill\": {\"color\": \"#C8D4E3\"}, \"line\": {\"color\": \"white\"}}, \"type\": \"table\"}]}, \"layout\": {\"annotationdefaults\": {\"arrowcolor\": \"#2a3f5f\", \"arrowhead\": 0, \"arrowwidth\": 1}, \"coloraxis\": {\"colorbar\": {\"outlinewidth\": 0, \"ticks\": \"\"}}, \"colorscale\": {\"diverging\": [[0, \"#8e0152\"], [0.1, \"#c51b7d\"], [0.2, \"#de77ae\"], [0.3, \"#f1b6da\"], [0.4, \"#fde0ef\"], [0.5, \"#f7f7f7\"], [0.6, \"#e6f5d0\"], [0.7, \"#b8e186\"], [0.8, \"#7fbc41\"], [0.9, \"#4d9221\"], [1, \"#276419\"]], \"sequential\": [[0.0, \"#0d0887\"], [0.1111111111111111, \"#46039f\"], [0.2222222222222222, \"#7201a8\"], [0.3333333333333333, \"#9c179e\"], [0.4444444444444444, \"#bd3786\"], [0.5555555555555556, \"#d8576b\"], [0.6666666666666666, \"#ed7953\"], [0.7777777777777778, \"#fb9f3a\"], [0.8888888888888888, \"#fdca26\"], [1.0, \"#f0f921\"]], \"sequentialminus\": [[0.0, \"#0d0887\"], [0.1111111111111111, \"#46039f\"], [0.2222222222222222, \"#7201a8\"], [0.3333333333333333, \"#9c179e\"], [0.4444444444444444, \"#bd3786\"], [0.5555555555555556, \"#d8576b\"], [0.6666666666666666, \"#ed7953\"], [0.7777777777777778, \"#fb9f3a\"], [0.8888888888888888, \"#fdca26\"], [1.0, \"#f0f921\"]]}, \"colorway\": [\"#636efa\", \"#EF553B\", \"#00cc96\", \"#ab63fa\", \"#FFA15A\", \"#19d3f3\", \"#FF6692\", \"#B6E880\", \"#FF97FF\", \"#FECB52\"], \"font\": {\"color\": \"#2a3f5f\"}, \"geo\": {\"bgcolor\": \"white\", \"lakecolor\": \"white\", \"landcolor\": \"#E5ECF6\", \"showlakes\": true, \"showland\": true, \"subunitcolor\": \"white\"}, \"hoverlabel\": {\"align\": \"left\"}, \"hovermode\": \"closest\", \"mapbox\": {\"style\": \"light\"}, \"paper_bgcolor\": \"white\", \"plot_bgcolor\": \"#E5ECF6\", \"polar\": {\"angularaxis\": {\"gridcolor\": \"white\", \"linecolor\": \"white\", \"ticks\": \"\"}, \"bgcolor\": \"#E5ECF6\", \"radialaxis\": {\"gridcolor\": \"white\", \"linecolor\": \"white\", \"ticks\": \"\"}}, \"scene\": {\"xaxis\": {\"backgroundcolor\": \"#E5ECF6\", \"gridcolor\": \"white\", \"gridwidth\": 2, \"linecolor\": \"white\", \"showbackground\": true, \"ticks\": \"\", \"zerolinecolor\": \"white\"}, \"yaxis\": {\"backgroundcolor\": \"#E5ECF6\", \"gridcolor\": \"white\", \"gridwidth\": 2, \"linecolor\": \"white\", \"showbackground\": true, \"ticks\": \"\", \"zerolinecolor\": \"white\"}, \"zaxis\": {\"backgroundcolor\": \"#E5ECF6\", \"gridcolor\": \"white\", \"gridwidth\": 2, \"linecolor\": \"white\", \"showbackground\": true, \"ticks\": \"\", \"zerolinecolor\": \"white\"}}, \"shapedefaults\": {\"line\": {\"color\": \"#2a3f5f\"}}, \"ternary\": {\"aaxis\": {\"gridcolor\": \"white\", \"linecolor\": \"white\", \"ticks\": \"\"}, \"baxis\": {\"gridcolor\": \"white\", \"linecolor\": \"white\", \"ticks\": \"\"}, \"bgcolor\": \"#E5ECF6\", \"caxis\": {\"gridcolor\": \"white\", \"linecolor\": \"white\", \"ticks\": \"\"}}, \"title\": {\"x\": 0.05}, \"xaxis\": {\"automargin\": true, \"gridcolor\": \"white\", \"linecolor\": \"white\", \"ticks\": \"\", \"title\": {\"standoff\": 15}, \"zerolinecolor\": \"white\", \"zerolinewidth\": 2}, \"yaxis\": {\"automargin\": true, \"gridcolor\": \"white\", \"linecolor\": \"white\", \"ticks\": \"\", \"title\": {\"standoff\": 15}, \"zerolinecolor\": \"white\", \"zerolinewidth\": 2}}}, \"title\": {\"text\": \"Gender Count\", \"x\": 0.5}},\n",
              "                        {\"responsive\": true}\n",
              "                    ).then(function(){\n",
              "                            \n",
              "var gd = document.getElementById('bdf2f02e-fe7d-432b-9fed-291d4b29280e');\n",
              "var x = new MutationObserver(function (mutations, observer) {{\n",
              "        var display = window.getComputedStyle(gd).display;\n",
              "        if (!display || display === 'none') {{\n",
              "            console.log([gd, 'removed!']);\n",
              "            Plotly.purge(gd);\n",
              "            observer.disconnect();\n",
              "        }}\n",
              "}});\n",
              "\n",
              "// Listen for the removal of the full notebook cells\n",
              "var notebookContainer = gd.closest('#notebook-container');\n",
              "if (notebookContainer) {{\n",
              "    x.observe(notebookContainer, {childList: true});\n",
              "}}\n",
              "\n",
              "// Listen for the clearing of the current output cell\n",
              "var outputEl = gd.closest('.output');\n",
              "if (outputEl) {{\n",
              "    x.observe(outputEl, {childList: true});\n",
              "}}\n",
              "\n",
              "                        })\n",
              "                };\n",
              "                \n",
              "            </script>\n",
              "        </div>\n",
              "</body>\n",
              "</html>"
            ]
          },
          "metadata": {
            "tags": []
          }
        }
      ]
    },
    {
      "cell_type": "markdown",
      "metadata": {
        "id": "UAAklWvswRSO"
      },
      "source": [
        "Actually imaeges in dataset are in string format so transform it in more useful type of data."
      ]
    },
    {
      "cell_type": "code",
      "metadata": {
        "id": "rvms42orwRSO"
      },
      "source": [
        "data['pixels'] = data['pixels'].map(lambda x: np.array(x.split(' '), dtype=np.float32).reshape(48, 48))"
      ],
      "execution_count": 17,
      "outputs": []
    },
    {
      "cell_type": "code",
      "metadata": {
        "id": "TIaHKqHNwRSP"
      },
      "source": [
        "# Plotting some pictures from the data"
      ],
      "execution_count": 18,
      "outputs": []
    },
    {
      "cell_type": "code",
      "metadata": {
        "colab": {
          "base_uri": "https://localhost:8080/",
          "height": 222
        },
        "id": "E3b3iRG_wRSP",
        "outputId": "2546318b-c535-41f9-d02b-ee07e7517636"
      },
      "source": [
        "fig, axes = plt.subplots(1, 5, figsize=(20, 10))\n",
        "\n",
        "for i in range(5):\n",
        "    random_face = np.random.choice(len(data))\n",
        "    \n",
        "    age = data['age'][random_face]\n",
        "    ethnicity = data['ethnicity'][random_face]\n",
        "    gender = data['gender'][random_face]\n",
        "    \n",
        "    axes[i].set_title('Age: {0}, Ethnicity: {1}, Sex: {2}'.format(age, ethnicity, gender))\n",
        "    axes[i].imshow(data['pixels'][random_face])\n",
        "    axes[i].axis('off')"
      ],
      "execution_count": 19,
      "outputs": [
        {
          "output_type": "display_data",
          "data": {
            "image/png": "[encoded data removed]",
            "text/plain": [
              "<Figure size 1440x720 with 5 Axes>"
            ]
          },
          "metadata": {
            "tags": []
          }
        }
      ]
    },
    {
      "cell_type": "markdown",
      "metadata": {
        "id": "t7HlqBomwRSQ"
      },
      "source": [
        "# Building the CNN model to predict the age, gender and ethnicity"
      ]
    },
    {
      "cell_type": "code",
      "metadata": {
        "id": "Ol1EpCCVwRSQ"
      },
      "source": [
        "# Reshape images for CNN\n",
        "X = np.array(data['pixels'].to_list())\n",
        "X_reshaped = X.reshape(X.shape[0], 48, 48, 1)"
      ],
      "execution_count": 20,
      "outputs": []
    },
    {
      "cell_type": "code",
      "metadata": {
        "id": "rfkjNCMwwRSR"
      },
      "source": [
        "# Normalise images fromt he data\n",
        "if np.max(X_reshaped) > 1: X_reshaped = X_reshaped / 255"
      ],
      "execution_count": 21,
      "outputs": []
    },
    {
      "cell_type": "code",
      "metadata": {
        "id": "qtySXen_wRSS"
      },
      "source": [
        "# getting the some significant variables\n",
        "input_shape = X_reshaped.shape[1:] \n",
        "\n",
        "n_epochs = 25\n",
        "batch_size = 64"
      ],
      "execution_count": 22,
      "outputs": []
    },
    {
      "cell_type": "markdown",
      "metadata": {
        "id": "0JRLm5SawRSu"
      },
      "source": [
        "# Age prediction using CNN model"
      ]
    },
    {
      "cell_type": "code",
      "metadata": {
        "id": "BncGTosdwRSv"
      },
      "source": [
        "y = data['age'].values"
      ],
      "execution_count": 23,
      "outputs": []
    },
    {
      "cell_type": "code",
      "metadata": {
        "id": "506HhGiHwRSv"
      },
      "source": [
        "# splitting the data into train and test data\n",
        "X_train, X_test, y_train, y_test = train_test_split(X_reshaped, y, test_size=0.2, random_state=42)"
      ],
      "execution_count": 24,
      "outputs": []
    },
    {
      "cell_type": "code",
      "metadata": {
        "colab": {
          "base_uri": "https://localhost:8080/"
        },
        "id": "I-euxm35wRSw",
        "outputId": "c1d3916d-186b-4fec-fe91-c7157e7c61a9"
      },
      "source": [
        "# Building the model\n",
        "\n",
        "age_model = Sequential()\n",
        "\n",
        "age_model.add(Conv2D(64, kernel_size=(3,3), input_shape=input_shape, activation='relu'))\n",
        "age_model.add(MaxPooling2D(pool_size=(2,2)))\n",
        "age_model.add(BatchNormalization())\n",
        "\n",
        "age_model.add(Conv2D(128, kernel_size=(3,3), activation='relu', padding='same'))\n",
        "age_model.add(Conv2D(128, kernel_size=(3,3), activation='relu'))\n",
        "age_model.add(MaxPooling2D(pool_size=(2,2)))\n",
        "age_model.add(Dropout(0.3))\n",
        "age_model.add(BatchNormalization())\n",
        "\n",
        "age_model.add(Conv2D(256, kernel_size=(3,3), activation='relu', padding='same'))\n",
        "age_model.add(Conv2D(256, kernel_size=(3,3), activation='relu'))\n",
        "age_model.add(MaxPooling2D(pool_size=(2,2)))\n",
        "age_model.add(Dropout(0.3))\n",
        "age_model.add(BatchNormalization())\n",
        "\n",
        "age_model.add(Conv2D(512, kernel_size=(3,3), activation='relu', padding='same'))\n",
        "age_model.add(MaxPooling2D(pool_size=(2,2)))\n",
        "age_model.add(Dropout(0.5))\n",
        "age_model.add(BatchNormalization())\n",
        "\n",
        "age_model.add(Flatten())\n",
        "age_model.add(Dense(128, activation='relu'))\n",
        "age_model.add(Dropout(0.4))\n",
        "age_model.add(Dense(1))\n",
        "\n",
        "age_model.compile(optimizer='adam', loss='mse')\n",
        "\n",
        "age_model.summary()"
      ],
      "execution_count": 25,
      "outputs": [
        {
          "output_type": "stream",
          "text": [
            "Model: \"sequential\"\n",
            "_________________________________________________________________\n",
            "Layer (type)                 Output Shape              Param #   \n",
            "=================================================================\n",
            "conv2d (Conv2D)              (None, 46, 46, 64)        640       \n",
            "_________________________________________________________________\n",
            "max_pooling2d (MaxPooling2D) (None, 23, 23, 64)        0         \n",
            "_________________________________________________________________\n",
            "batch_normalization (BatchNo (None, 23, 23, 64)        256       \n",
            "_________________________________________________________________\n",
            "conv2d_1 (Conv2D)            (None, 23, 23, 128)       73856     \n",
            "_________________________________________________________________\n",
            "conv2d_2 (Conv2D)            (None, 21, 21, 128)       147584    \n",
            "_________________________________________________________________\n",
            "max_pooling2d_1 (MaxPooling2 (None, 10, 10, 128)       0         \n",
            "_________________________________________________________________\n",
            "dropout (Dropout)            (None, 10, 10, 128)       0         \n",
            "_________________________________________________________________\n",
            "batch_normalization_1 (Batch (None, 10, 10, 128)       512       \n",
            "_________________________________________________________________\n",
            "conv2d_3 (Conv2D)            (None, 10, 10, 256)       295168    \n",
            "_________________________________________________________________\n",
            "conv2d_4 (Conv2D)            (None, 8, 8, 256)         590080    \n",
            "_________________________________________________________________\n",
            "max_pooling2d_2 (MaxPooling2 (None, 4, 4, 256)         0         \n",
            "_________________________________________________________________\n",
            "dropout_1 (Dropout)          (None, 4, 4, 256)         0         \n",
            "_________________________________________________________________\n",
            "batch_normalization_2 (Batch (None, 4, 4, 256)         1024      \n",
            "_________________________________________________________________\n",
            "conv2d_5 (Conv2D)            (None, 4, 4, 512)         1180160   \n",
            "_________________________________________________________________\n",
            "max_pooling2d_3 (MaxPooling2 (None, 2, 2, 512)         0         \n",
            "_________________________________________________________________\n",
            "dropout_2 (Dropout)          (None, 2, 2, 512)         0         \n",
            "_________________________________________________________________\n",
            "batch_normalization_3 (Batch (None, 2, 2, 512)         2048      \n",
            "_________________________________________________________________\n",
            "flatten (Flatten)            (None, 2048)              0         \n",
            "_________________________________________________________________\n",
            "dense (Dense)                (None, 128)               262272    \n",
            "_________________________________________________________________\n",
            "dropout_3 (Dropout)          (None, 128)               0         \n",
            "_________________________________________________________________\n",
            "dense_1 (Dense)              (None, 1)                 129       \n",
            "=================================================================\n",
            "Total params: 2,553,729\n",
            "Trainable params: 2,551,809\n",
            "Non-trainable params: 1,920\n",
            "_________________________________________________________________\n"
          ],
          "name": "stdout"
        }
      ]
    },
    {
      "cell_type": "code",
      "metadata": {
        "id": "vkoQZupVwRSy"
      },
      "source": [
        "# Callbacks for age model\n",
        "callbacks = [EarlyStopping(patience=4, monitor='val_loss', mode='min'), \n",
        "             ReduceLROnPlateau(patience=2, verbose=1)]"
      ],
      "execution_count": 26,
      "outputs": []
    },
    {
      "cell_type": "code",
      "metadata": {
        "colab": {
          "base_uri": "https://localhost:8080/"
        },
        "id": "iVvBct8NwRSz",
        "outputId": "2c06e58a-2ce3-4591-cf81-ccc78d5247e0"
      },
      "source": [
        "history = age_model.fit(X_train, y_train, \n",
        "                        epochs=n_epochs,\n",
        "                        batch_size=batch_size,\n",
        "                        callbacks=callbacks,\n",
        "                        validation_data=(X_test, y_test))"
      ],
      "execution_count": 27,
      "outputs": [
        {
          "output_type": "stream",
          "text": [
            "Epoch 1/25\n",
            "297/297 [==============================] - 41s 24ms/step - loss: 403.0047 - val_loss: 2833.4138\n",
            "Epoch 2/25\n",
            "297/297 [==============================] - 7s 22ms/step - loss: 151.8512 - val_loss: 2269.3228\n",
            "Epoch 3/25\n",
            "297/297 [==============================] - 7s 22ms/step - loss: 124.9945 - val_loss: 262.7137\n",
            "Epoch 4/25\n",
            "297/297 [==============================] - 7s 22ms/step - loss: 113.0531 - val_loss: 422.6773\n",
            "Epoch 5/25\n",
            "297/297 [==============================] - 7s 22ms/step - loss: 106.8203 - val_loss: 140.6148\n",
            "Epoch 6/25\n",
            "297/297 [==============================] - 7s 22ms/step - loss: 99.5947 - val_loss: 211.9046\n",
            "Epoch 7/25\n",
            "297/297 [==============================] - 7s 22ms/step - loss: 93.0037 - val_loss: 288.2183\n",
            "\n",
            "Epoch 00007: ReduceLROnPlateau reducing learning rate to 0.00010000000474974513.\n",
            "Epoch 8/25\n",
            "297/297 [==============================] - 7s 22ms/step - loss: 77.6012 - val_loss: 69.1799\n",
            "Epoch 9/25\n",
            "297/297 [==============================] - 7s 22ms/step - loss: 71.9200 - val_loss: 83.1731\n",
            "Epoch 10/25\n",
            "297/297 [==============================] - 7s 22ms/step - loss: 67.1314 - val_loss: 77.5450\n",
            "\n",
            "Epoch 00010: ReduceLROnPlateau reducing learning rate to 1.0000000474974514e-05.\n",
            "Epoch 11/25\n",
            "297/297 [==============================] - 7s 23ms/step - loss: 68.1752 - val_loss: 66.8327\n",
            "Epoch 12/25\n",
            "297/297 [==============================] - 7s 23ms/step - loss: 68.8986 - val_loss: 66.7882\n",
            "Epoch 13/25\n",
            "297/297 [==============================] - 7s 23ms/step - loss: 66.5499 - val_loss: 67.2987\n",
            "Epoch 14/25\n",
            "297/297 [==============================] - 7s 23ms/step - loss: 67.6421 - val_loss: 67.2572\n",
            "\n",
            "Epoch 00014: ReduceLROnPlateau reducing learning rate to 1.0000000656873453e-06.\n",
            "Epoch 15/25\n",
            "297/297 [==============================] - 7s 22ms/step - loss: 67.2246 - val_loss: 66.5748\n",
            "Epoch 16/25\n",
            "297/297 [==============================] - 7s 22ms/step - loss: 65.0787 - val_loss: 66.5568\n",
            "Epoch 17/25\n",
            "297/297 [==============================] - 7s 22ms/step - loss: 66.8322 - val_loss: 66.5194\n",
            "Epoch 18/25\n",
            "297/297 [==============================] - 7s 22ms/step - loss: 67.9228 - val_loss: 66.5149\n",
            "Epoch 19/25\n",
            "297/297 [==============================] - 7s 22ms/step - loss: 64.8463 - val_loss: 66.5119\n",
            "Epoch 20/25\n",
            "297/297 [==============================] - 7s 22ms/step - loss: 67.6420 - val_loss: 66.5041\n",
            "Epoch 21/25\n",
            "297/297 [==============================] - 7s 22ms/step - loss: 63.6111 - val_loss: 66.5043\n",
            "Epoch 22/25\n",
            "297/297 [==============================] - 7s 22ms/step - loss: 66.9077 - val_loss: 66.4638\n",
            "Epoch 23/25\n",
            "297/297 [==============================] - 7s 22ms/step - loss: 65.1063 - val_loss: 66.4699\n",
            "Epoch 24/25\n",
            "297/297 [==============================] - 7s 22ms/step - loss: 64.0858 - val_loss: 66.4852\n",
            "\n",
            "Epoch 00024: ReduceLROnPlateau reducing learning rate to 1.0000001111620805e-07.\n",
            "Epoch 25/25\n",
            "297/297 [==============================] - 7s 22ms/step - loss: 64.6807 - val_loss: 66.4695\n"
          ],
          "name": "stdout"
        }
      ]
    },
    {
      "cell_type": "code",
      "metadata": {
        "colab": {
          "base_uri": "https://localhost:8080/",
          "height": 268
        },
        "id": "6lAKDY7ewRS0",
        "outputId": "3aa07113-2ae5-4050-c3f6-58f086e48012"
      },
      "source": [
        "pd.DataFrame(history.history).plot();"
      ],
      "execution_count": 28,
      "outputs": [
        {
          "output_type": "display_data",
          "data": {
            "image/png": "[encoded data removed]",
            "text/plain": [
              "<Figure size 432x288 with 1 Axes>"
            ]
          },
          "metadata": {
            "tags": []
          }
        }
      ]
    },
    {
      "cell_type": "code",
      "metadata": {
        "id": "afhDLwd2wRS1"
      },
      "source": [
        "# Make predictionson test data \n",
        "y_pred = age_model.predict(X_test)"
      ],
      "execution_count": 29,
      "outputs": []
    },
    {
      "cell_type": "code",
      "metadata": {
        "colab": {
          "base_uri": "https://localhost:8080/"
        },
        "id": "uOPoK_kpwRS1",
        "outputId": "471da278-a9fb-409b-9d14-b31e13e75340"
      },
      "source": [
        "# Mean absolute error\n",
        "print(\"MAE: {}\".format(mean_absolute_error(y_test, y_pred)))"
      ],
      "execution_count": 30,
      "outputs": [
        {
          "output_type": "stream",
          "text": [
            "MAE: 5.755795780678536\n"
          ],
          "name": "stdout"
        }
      ]
    },
    {
      "cell_type": "code",
      "metadata": {
        "colab": {
          "base_uri": "https://localhost:8080/",
          "height": 325
        },
        "id": "CODvbNY7wRS2",
        "outputId": "fd575456-1307-496e-e9f4-bc184554b9ed"
      },
      "source": [
        "# Distribution of the data\n",
        "plt.figure(figsize=(8, 5))\n",
        "plt.scatter(y_pred, y_test);"
      ],
      "execution_count": 31,
      "outputs": [
        {
          "output_type": "display_data",
          "data": {
            "image/png": "[encoded data removed]",
            "text/plain": [
              "<Figure size 576x360 with 1 Axes>"
            ]
          },
          "metadata": {
            "tags": []
          }
        }
      ]
    },
    {
      "cell_type": "markdown",
      "metadata": {
        "id": "7DUDLsT2wRS2"
      },
      "source": [
        "So, mean absolute error around 5.5 years it's not so super result considering mean age is 33"
      ]
    },
    {
      "cell_type": "markdown",
      "metadata": {
        "id": "sP_iwzocwRS3"
      },
      "source": [
        "# Gender prediction"
      ]
    },
    {
      "cell_type": "code",
      "metadata": {
        "id": "YRzB1S-FwRS3"
      },
      "source": [
        "y = data['gender'].values\n",
        "\n",
        "# splitting the data into train and test\n",
        "X_train, X_test, y_train, y_test = train_test_split(X_reshaped, y, test_size=0.2, random_state=42)"
      ],
      "execution_count": 32,
      "outputs": []
    },
    {
      "cell_type": "code",
      "metadata": {
        "colab": {
          "base_uri": "https://localhost:8080/"
        },
        "id": "WyaJ1wYgwRS3",
        "outputId": "cffa1fe2-1756-484a-d18d-a33ab3828202"
      },
      "source": [
        "# Building the model\n",
        "\n",
        "gender_model = Sequential()\n",
        "\n",
        "gender_model.add(Conv2D(64, kernel_size=(3,3), input_shape=input_shape, activation='relu'))\n",
        "gender_model.add(MaxPooling2D(pool_size=(2,2)))\n",
        "gender_model.add(BatchNormalization())\n",
        "\n",
        "gender_model.add(Conv2D(128, kernel_size=(3,3), activation='relu'))\n",
        "#gender_model.add(Conv2D(128, kernel_size=(3,3), activation='relu'))\n",
        "gender_model.add(MaxPooling2D(pool_size=(2,2)))\n",
        "gender_model.add(Dropout(0.4))\n",
        "gender_model.add(BatchNormalization())\n",
        "\n",
        "gender_model.add(Conv2D(256, kernel_size=(3,3), activation='relu'))\n",
        "gender_model.add(Conv2D(256, kernel_size=(3,3), activation='relu'))\n",
        "gender_model.add(MaxPooling2D(pool_size=(2,2)))\n",
        "gender_model.add(Dropout(0.5))\n",
        "gender_model.add(BatchNormalization())\n",
        "\n",
        "gender_model.add(Flatten())\n",
        "\n",
        "gender_model.add(Dense(64, activation='relu'))\n",
        "gender_model.add(Dropout(0.4))\n",
        "\n",
        "gender_model.add(Dense(1, activation='sigmoid')) #For binary classification activation function is sigmoid \n",
        "\n",
        "gender_model.compile(optimizer='adam', loss='binary_crossentropy', metrics=['accuracy']) #...and loss function is binary_crossentropy\n",
        "\n",
        "gender_model.summary()\n"
      ],
      "execution_count": 33,
      "outputs": [
        {
          "output_type": "stream",
          "text": [
            "Model: \"sequential_1\"\n",
            "_________________________________________________________________\n",
            "Layer (type)                 Output Shape              Param #   \n",
            "=================================================================\n",
            "conv2d_6 (Conv2D)            (None, 46, 46, 64)        640       \n",
            "_________________________________________________________________\n",
            "max_pooling2d_4 (MaxPooling2 (None, 23, 23, 64)        0         \n",
            "_________________________________________________________________\n",
            "batch_normalization_4 (Batch (None, 23, 23, 64)        256       \n",
            "_________________________________________________________________\n",
            "conv2d_7 (Conv2D)            (None, 21, 21, 128)       73856     \n",
            "_________________________________________________________________\n",
            "max_pooling2d_5 (MaxPooling2 (None, 10, 10, 128)       0         \n",
            "_________________________________________________________________\n",
            "dropout_4 (Dropout)          (None, 10, 10, 128)       0         \n",
            "_________________________________________________________________\n",
            "batch_normalization_5 (Batch (None, 10, 10, 128)       512       \n",
            "_________________________________________________________________\n",
            "conv2d_8 (Conv2D)            (None, 8, 8, 256)         295168    \n",
            "_________________________________________________________________\n",
            "conv2d_9 (Conv2D)            (None, 6, 6, 256)         590080    \n",
            "_________________________________________________________________\n",
            "max_pooling2d_6 (MaxPooling2 (None, 3, 3, 256)         0         \n",
            "_________________________________________________________________\n",
            "dropout_5 (Dropout)          (None, 3, 3, 256)         0         \n",
            "_________________________________________________________________\n",
            "batch_normalization_6 (Batch (None, 3, 3, 256)         1024      \n",
            "_________________________________________________________________\n",
            "flatten_1 (Flatten)          (None, 2304)              0         \n",
            "_________________________________________________________________\n",
            "dense_2 (Dense)              (None, 64)                147520    \n",
            "_________________________________________________________________\n",
            "dropout_6 (Dropout)          (None, 64)                0         \n",
            "_________________________________________________________________\n",
            "dense_3 (Dense)              (None, 1)                 65        \n",
            "=================================================================\n",
            "Total params: 1,109,121\n",
            "Trainable params: 1,108,225\n",
            "Non-trainable params: 896\n",
            "_________________________________________________________________\n"
          ],
          "name": "stdout"
        }
      ]
    },
    {
      "cell_type": "code",
      "metadata": {
        "id": "JjdqTTP2wRS4"
      },
      "source": [
        "# Callbacks for gender model\n",
        "callbacks = [EarlyStopping(patience=4, monitor='val_accuracy', mode='max'), \n",
        "              ReduceLROnPlateau(patience=2, verbose=1)]"
      ],
      "execution_count": 34,
      "outputs": []
    },
    {
      "cell_type": "code",
      "metadata": {
        "colab": {
          "base_uri": "https://localhost:8080/"
        },
        "id": "VM0OvufMwRS5",
        "outputId": "f7144498-3b73-4ff9-d8d1-257f516d44d9"
      },
      "source": [
        "history = gender_model.fit(X_train, y_train, \n",
        "                           epochs=n_epochs,\n",
        "                           batch_size=batch_size,\n",
        "                           callbacks=callbacks,\n",
        "                           validation_data=(X_test, y_test))"
      ],
      "execution_count": 35,
      "outputs": [
        {
          "output_type": "stream",
          "text": [
            "Epoch 1/25\n",
            "297/297 [==============================] - 6s 16ms/step - loss: 0.6078 - accuracy: 0.6995 - val_loss: 0.5843 - val_accuracy: 0.6537\n",
            "Epoch 2/25\n",
            "297/297 [==============================] - 4s 15ms/step - loss: 0.3634 - accuracy: 0.8361 - val_loss: 0.3418 - val_accuracy: 0.8502\n",
            "Epoch 3/25\n",
            "297/297 [==============================] - 4s 15ms/step - loss: 0.3109 - accuracy: 0.8559 - val_loss: 0.3431 - val_accuracy: 0.8376\n",
            "Epoch 4/25\n",
            "297/297 [==============================] - 4s 15ms/step - loss: 0.2851 - accuracy: 0.8688 - val_loss: 0.2698 - val_accuracy: 0.8821\n",
            "Epoch 5/25\n",
            "297/297 [==============================] - 4s 15ms/step - loss: 0.2696 - accuracy: 0.8791 - val_loss: 0.2660 - val_accuracy: 0.8821\n",
            "Epoch 6/25\n",
            "297/297 [==============================] - 4s 15ms/step - loss: 0.2564 - accuracy: 0.8881 - val_loss: 0.2837 - val_accuracy: 0.8768\n",
            "Epoch 7/25\n",
            "297/297 [==============================] - 4s 15ms/step - loss: 0.2422 - accuracy: 0.8949 - val_loss: 0.2635 - val_accuracy: 0.8884\n",
            "Epoch 8/25\n",
            "297/297 [==============================] - 4s 15ms/step - loss: 0.2304 - accuracy: 0.8997 - val_loss: 0.3045 - val_accuracy: 0.8669\n",
            "Epoch 9/25\n",
            "297/297 [==============================] - 4s 15ms/step - loss: 0.2203 - accuracy: 0.9047 - val_loss: 0.2443 - val_accuracy: 0.8941\n",
            "Epoch 10/25\n",
            "297/297 [==============================] - 4s 15ms/step - loss: 0.2135 - accuracy: 0.9089 - val_loss: 0.2906 - val_accuracy: 0.8779\n",
            "Epoch 11/25\n",
            "297/297 [==============================] - 4s 15ms/step - loss: 0.2150 - accuracy: 0.9079 - val_loss: 0.2476 - val_accuracy: 0.8937\n",
            "\n",
            "Epoch 00011: ReduceLROnPlateau reducing learning rate to 0.00010000000474974513.\n",
            "Epoch 12/25\n",
            "297/297 [==============================] - 4s 15ms/step - loss: 0.1877 - accuracy: 0.9222 - val_loss: 0.2370 - val_accuracy: 0.9066\n",
            "Epoch 13/25\n",
            "297/297 [==============================] - 4s 15ms/step - loss: 0.1756 - accuracy: 0.9252 - val_loss: 0.2368 - val_accuracy: 0.9080\n",
            "Epoch 14/25\n",
            "297/297 [==============================] - 4s 15ms/step - loss: 0.1662 - accuracy: 0.9307 - val_loss: 0.2346 - val_accuracy: 0.9101\n",
            "Epoch 15/25\n",
            "297/297 [==============================] - 4s 15ms/step - loss: 0.1561 - accuracy: 0.9345 - val_loss: 0.2388 - val_accuracy: 0.9091\n",
            "Epoch 16/25\n",
            "297/297 [==============================] - 4s 15ms/step - loss: 0.1651 - accuracy: 0.9298 - val_loss: 0.2390 - val_accuracy: 0.9085\n",
            "\n",
            "Epoch 00016: ReduceLROnPlateau reducing learning rate to 1.0000000474974514e-05.\n",
            "Epoch 17/25\n",
            "297/297 [==============================] - 4s 15ms/step - loss: 0.1552 - accuracy: 0.9363 - val_loss: 0.2378 - val_accuracy: 0.9108\n",
            "Epoch 18/25\n",
            "297/297 [==============================] - 4s 15ms/step - loss: 0.1412 - accuracy: 0.9390 - val_loss: 0.2385 - val_accuracy: 0.9104\n",
            "\n",
            "Epoch 00018: ReduceLROnPlateau reducing learning rate to 1.0000000656873453e-06.\n",
            "Epoch 19/25\n",
            "297/297 [==============================] - 4s 15ms/step - loss: 0.1427 - accuracy: 0.9393 - val_loss: 0.2389 - val_accuracy: 0.9110\n",
            "Epoch 20/25\n",
            "297/297 [==============================] - 4s 15ms/step - loss: 0.1452 - accuracy: 0.9378 - val_loss: 0.2390 - val_accuracy: 0.9108\n",
            "\n",
            "Epoch 00020: ReduceLROnPlateau reducing learning rate to 1.0000001111620805e-07.\n",
            "Epoch 21/25\n",
            "297/297 [==============================] - 4s 15ms/step - loss: 0.1528 - accuracy: 0.9354 - val_loss: 0.2392 - val_accuracy: 0.9106\n",
            "Epoch 22/25\n",
            "297/297 [==============================] - 4s 15ms/step - loss: 0.1443 - accuracy: 0.9380 - val_loss: 0.2392 - val_accuracy: 0.9108\n",
            "\n",
            "Epoch 00022: ReduceLROnPlateau reducing learning rate to 1.000000082740371e-08.\n",
            "Epoch 23/25\n",
            "297/297 [==============================] - 4s 15ms/step - loss: 0.1463 - accuracy: 0.9395 - val_loss: 0.2391 - val_accuracy: 0.9112\n",
            "Epoch 24/25\n",
            "297/297 [==============================] - 4s 15ms/step - loss: 0.1448 - accuracy: 0.9387 - val_loss: 0.2391 - val_accuracy: 0.9106\n",
            "\n",
            "Epoch 00024: ReduceLROnPlateau reducing learning rate to 1.000000082740371e-09.\n",
            "Epoch 25/25\n",
            "297/297 [==============================] - 4s 15ms/step - loss: 0.1506 - accuracy: 0.9386 - val_loss: 0.2390 - val_accuracy: 0.9108\n"
          ],
          "name": "stdout"
        }
      ]
    },
    {
      "cell_type": "code",
      "metadata": {
        "colab": {
          "base_uri": "https://localhost:8080/"
        },
        "id": "LiQibzF2wRS5",
        "outputId": "8b6a82cd-9998-4a70-95c1-8237aab4d82c"
      },
      "source": [
        "# Metrics evaluation\n",
        "valid_score = gender_model.evaluate(X_test, y_test, verbose=1)\n",
        "print('Accuracy for test set: {0}'.format(valid_score[1]))"
      ],
      "execution_count": 36,
      "outputs": [
        {
          "output_type": "stream",
          "text": [
            "149/149 [==============================] - 1s 4ms/step - loss: 0.2390 - accuracy: 0.9108\n",
            "Accuracy for test set: 0.9107783436775208\n"
          ],
          "name": "stdout"
        }
      ]
    },
    {
      "cell_type": "code",
      "metadata": {
        "colab": {
          "base_uri": "https://localhost:8080/"
        },
        "id": "-3EaaJMdwRS6",
        "outputId": "a73f2a8d-5273-46d7-cdcf-ffd21a7930c4"
      },
      "source": [
        "y_pred = gender_model.predict_classes(X_test)"
      ],
      "execution_count": 37,
      "outputs": [
        {
          "output_type": "stream",
          "text": [
            "/usr/local/lib/python3.7/dist-packages/tensorflow/python/keras/engine/sequential.py:450: UserWarning:\n",
            "\n",
            "`model.predict_classes()` is deprecated and will be removed after 2021-01-01. Please use instead:* `np.argmax(model.predict(x), axis=-1)`,   if your model does multi-class classification   (e.g. if it uses a `softmax` last-layer activation).* `(model.predict(x) > 0.5).astype(\"int32\")`,   if your model does binary classification   (e.g. if it uses a `sigmoid` last-layer activation).\n",
            "\n"
          ],
          "name": "stderr"
        }
      ]
    },
    {
      "cell_type": "code",
      "metadata": {
        "colab": {
          "base_uri": "https://localhost:8080/"
        },
        "id": "no_Gb2u7wRS6",
        "outputId": "4257dc63-8f74-4c32-d1de-8767023341ab"
      },
      "source": [
        "print(classification_report(y_test, y_pred))"
      ],
      "execution_count": 38,
      "outputs": [
        {
          "output_type": "stream",
          "text": [
            "              precision    recall  f1-score   support\n",
            "\n",
            "           0       0.92      0.91      0.91      2468\n",
            "           1       0.90      0.91      0.91      2273\n",
            "\n",
            "    accuracy                           0.91      4741\n",
            "   macro avg       0.91      0.91      0.91      4741\n",
            "weighted avg       0.91      0.91      0.91      4741\n",
            "\n"
          ],
          "name": "stdout"
        }
      ]
    },
    {
      "cell_type": "code",
      "metadata": {
        "colab": {
          "base_uri": "https://localhost:8080/",
          "height": 268
        },
        "id": "RKEnFAQKwRS7",
        "outputId": "acf07c1d-da7f-4753-8937-834615a64eda"
      },
      "source": [
        "# Confusion matrix\n",
        "cm = confusion_matrix(y_test, y_pred)\n",
        "sns.heatmap(cm, cmap='Greens', cbar=False, annot=True, fmt='d');"
      ],
      "execution_count": 39,
      "outputs": [
        {
          "output_type": "display_data",
          "data": {
            "image/png": "[encoded data removed]",
            "text/plain": [
              "<Figure size 432x288 with 1 Axes>"
            ]
          },
          "metadata": {
            "tags": []
          }
        }
      ]
    },
    {
      "cell_type": "markdown",
      "metadata": {
        "id": "gu4IQdf9wRS7"
      },
      "source": [
        "Due to the more no of childern the model giving the less accuracy in prediction. Let's see some examples where's model had made mistake"
      ]
    },
    {
      "cell_type": "code",
      "metadata": {
        "id": "yB0kvFSowRS8"
      },
      "source": [
        "y_pred = y_pred.reshape(y_pred.shape[0])\n"
      ],
      "execution_count": 40,
      "outputs": []
    },
    {
      "cell_type": "code",
      "metadata": {
        "colab": {
          "base_uri": "https://localhost:8080/",
          "height": 207
        },
        "id": "IddSK-6fwRS8",
        "outputId": "3f02c752-b136-4702-f3da-ccf992ea639c"
      },
      "source": [
        "# Model predict is female, but actually it's male\n",
        "\n",
        "X_fp = X_test[(y_pred == 1) & (y_test == 0)] \n",
        "\n",
        "fig, axes = plt.subplots(1, 5, figsize=(20, 10))\n",
        "\n",
        "for i in range(5):\n",
        "    \n",
        "    random_choice = np.random.choice(len(X_fp))\n",
        "    \n",
        "    axes[i].imshow(X_fp[random_choice].reshape(48, 48))\n",
        "    axes[i].axis('off')"
      ],
      "execution_count": 41,
      "outputs": [
        {
          "output_type": "display_data",
          "data": {
            "image/png": "[encoded data removed]",
            "text/plain": [
              "<Figure size 1440x720 with 5 Axes>"
            ]
          },
          "metadata": {
            "tags": []
          }
        }
      ]
    },
    {
      "cell_type": "code",
      "metadata": {
        "colab": {
          "base_uri": "https://localhost:8080/",
          "height": 207
        },
        "id": "hYKR0y66wRS9",
        "outputId": "61e29562-cfc9-45f7-fe40-adf7001ecae0"
      },
      "source": [
        "# Model predict is male, but actually it's female\n",
        "\n",
        "X_fn = X_test[(y_pred == 0) & (y_test == 1)]  \n",
        "\n",
        "fig, axes = plt.subplots(1, 5, figsize=(20, 10))\n",
        "\n",
        "for i in range(5):\n",
        "    \n",
        "    random_choice = np.random.choice(len(X_fn))\n",
        "    axes[i].imshow(X_fn[random_choice].reshape(48, 48))\n",
        "    axes[i].axis('off')"
      ],
      "execution_count": 42,
      "outputs": [
        {
          "output_type": "display_data",
          "data": {
            "image/png": "[encoded data removed]",
            "text/plain": [
              "<Figure size 1440x720 with 5 Axes>"
            ]
          },
          "metadata": {
            "tags": []
          }
        }
      ]
    },
    {
      "cell_type": "markdown",
      "metadata": {
        "id": "Ruv-YR0kwRS9"
      },
      "source": [
        "# Ethnicity prediction"
      ]
    },
    {
      "cell_type": "code",
      "metadata": {
        "colab": {
          "base_uri": "https://localhost:8080/"
        },
        "id": "J8PPhEvWwlk_",
        "outputId": "1dbb3a6a-2270-4a44-8475-bfeede1476cd"
      },
      "source": [
        "from google.colab import drive\n",
        "drive.mount('/content/drive')"
      ],
      "execution_count": 43,
      "outputs": [
        {
          "output_type": "stream",
          "text": [
            "Drive already mounted at /content/drive; to attempt to forcibly remount, call drive.mount(\"/content/drive\", force_remount=True).\n"
          ],
          "name": "stdout"
        }
      ]
    },
    {
      "cell_type": "code",
      "metadata": {
        "id": "R3UbPH81wRS-"
      },
      "source": [
        "y = data['ethnicity'].values\n",
        "\n",
        "# Multiclass problem transform to one_hot_encoding\n",
        "y = to_categorical(y, 5)\n",
        "\n",
        "# Train test split\n",
        "X_train, X_test, y_train, y_test = train_test_split(X_reshaped, y, test_size=0.2, random_state=42)"
      ],
      "execution_count": 44,
      "outputs": []
    },
    {
      "cell_type": "code",
      "metadata": {
        "colab": {
          "base_uri": "https://localhost:8080/"
        },
        "id": "ituVCYPIwRS-",
        "outputId": "0ae26c68-05d8-41d4-fecc-5fa1000a961b"
      },
      "source": [
        "eth_model = Sequential()\n",
        "\n",
        "eth_model.add(Conv2D(64, kernel_size=(3,3), input_shape=input_shape, activation='relu'))\n",
        "eth_model.add(MaxPooling2D(pool_size=(2,2)))\n",
        "eth_model.add(BatchNormalization())\n",
        "\n",
        "eth_model.add(Conv2D(128, kernel_size=(3,3), activation='relu'))\n",
        "eth_model.add(MaxPooling2D(pool_size=(2,2)))\n",
        "eth_model.add(BatchNormalization())\n",
        "\n",
        "eth_model.add(Conv2D(256, kernel_size=(3,3), activation='relu'))\n",
        "eth_model.add(MaxPooling2D(pool_size=(2,2)))\n",
        "eth_model.add(Dropout(0.5))\n",
        "eth_model.add(BatchNormalization())\n",
        "\n",
        "eth_model.add(Flatten())\n",
        "eth_model.add(Dense(128, activation='relu'))\n",
        "eth_model.add(Dropout(0.5))\n",
        "eth_model.add(Dense(5, activation='softmax')) #For multiclass classification activation function is softmax \n",
        "\n",
        "eth_model.compile(optimizer='adam', loss='categorical_crossentropy', metrics=['accuracy']) #...and loss function is categorical_crossentropy\n",
        "\n",
        "eth_model.summary()"
      ],
      "execution_count": 45,
      "outputs": [
        {
          "output_type": "stream",
          "text": [
            "Model: \"sequential_2\"\n",
            "_________________________________________________________________\n",
            "Layer (type)                 Output Shape              Param #   \n",
            "=================================================================\n",
            "conv2d_10 (Conv2D)           (None, 46, 46, 64)        640       \n",
            "_________________________________________________________________\n",
            "max_pooling2d_7 (MaxPooling2 (None, 23, 23, 64)        0         \n",
            "_________________________________________________________________\n",
            "batch_normalization_7 (Batch (None, 23, 23, 64)        256       \n",
            "_________________________________________________________________\n",
            "conv2d_11 (Conv2D)           (None, 21, 21, 128)       73856     \n",
            "_________________________________________________________________\n",
            "max_pooling2d_8 (MaxPooling2 (None, 10, 10, 128)       0         \n",
            "_________________________________________________________________\n",
            "batch_normalization_8 (Batch (None, 10, 10, 128)       512       \n",
            "_________________________________________________________________\n",
            "conv2d_12 (Conv2D)           (None, 8, 8, 256)         295168    \n",
            "_________________________________________________________________\n",
            "max_pooling2d_9 (MaxPooling2 (None, 4, 4, 256)         0         \n",
            "_________________________________________________________________\n",
            "dropout_7 (Dropout)          (None, 4, 4, 256)         0         \n",
            "_________________________________________________________________\n",
            "batch_normalization_9 (Batch (None, 4, 4, 256)         1024      \n",
            "_________________________________________________________________\n",
            "flatten_2 (Flatten)          (None, 4096)              0         \n",
            "_________________________________________________________________\n",
            "dense_4 (Dense)              (None, 128)               524416    \n",
            "_________________________________________________________________\n",
            "dropout_8 (Dropout)          (None, 128)               0         \n",
            "_________________________________________________________________\n",
            "dense_5 (Dense)              (None, 5)                 645       \n",
            "=================================================================\n",
            "Total params: 896,517\n",
            "Trainable params: 895,621\n",
            "Non-trainable params: 896\n",
            "_________________________________________________________________\n"
          ],
          "name": "stdout"
        }
      ]
    },
    {
      "cell_type": "code",
      "metadata": {
        "id": "7nCQxSHBwRS_"
      },
      "source": [
        "# Callbacks for ethnicity model\n",
        "callbacks = [EarlyStopping(patience=4, monitor='val_accuracy', mode='max'), \n",
        "             ReduceLROnPlateau(patience=2, verbose=1)]"
      ],
      "execution_count": 46,
      "outputs": []
    },
    {
      "cell_type": "code",
      "metadata": {
        "colab": {
          "base_uri": "https://localhost:8080/"
        },
        "id": "e1gpgEwowRTA",
        "outputId": "18a5e97e-d81a-4a4a-b70d-31f1088a1bbc"
      },
      "source": [
        "history = eth_model.fit(X_train, y_train, \n",
        "                         epochs=n_epochs,\n",
        "                         batch_size=batch_size,\n",
        "                         callbacks=callbacks,\n",
        "                         validation_data=(X_test, y_test))"
      ],
      "execution_count": 47,
      "outputs": [
        {
          "output_type": "stream",
          "text": [
            "Epoch 1/25\n",
            "297/297 [==============================] - 5s 14ms/step - loss: 1.4283 - accuracy: 0.4951 - val_loss: 3.4435 - val_accuracy: 0.4318\n",
            "Epoch 2/25\n",
            "297/297 [==============================] - 4s 13ms/step - loss: 0.9092 - accuracy: 0.6847 - val_loss: 1.3795 - val_accuracy: 0.5514\n",
            "Epoch 3/25\n",
            "297/297 [==============================] - 4s 13ms/step - loss: 0.8234 - accuracy: 0.7143 - val_loss: 0.7131 - val_accuracy: 0.7517\n",
            "Epoch 4/25\n",
            "297/297 [==============================] - 4s 13ms/step - loss: 0.7535 - accuracy: 0.7364 - val_loss: 0.8288 - val_accuracy: 0.6868\n",
            "Epoch 5/25\n",
            "297/297 [==============================] - 4s 13ms/step - loss: 0.6928 - accuracy: 0.7598 - val_loss: 0.7145 - val_accuracy: 0.7477\n",
            "\n",
            "Epoch 00005: ReduceLROnPlateau reducing learning rate to 0.00010000000474974513.\n",
            "Epoch 6/25\n",
            "297/297 [==============================] - 4s 13ms/step - loss: 0.6205 - accuracy: 0.7867 - val_loss: 0.5850 - val_accuracy: 0.7933\n",
            "Epoch 7/25\n",
            "297/297 [==============================] - 4s 13ms/step - loss: 0.5742 - accuracy: 0.7979 - val_loss: 0.5757 - val_accuracy: 0.7979\n",
            "Epoch 8/25\n",
            "297/297 [==============================] - 4s 13ms/step - loss: 0.5546 - accuracy: 0.8078 - val_loss: 0.5780 - val_accuracy: 0.7956\n",
            "Epoch 9/25\n",
            "297/297 [==============================] - 4s 13ms/step - loss: 0.5204 - accuracy: 0.8174 - val_loss: 0.5716 - val_accuracy: 0.8015\n",
            "Epoch 10/25\n",
            "297/297 [==============================] - 4s 13ms/step - loss: 0.5005 - accuracy: 0.8263 - val_loss: 0.5706 - val_accuracy: 0.8000\n",
            "Epoch 11/25\n",
            "297/297 [==============================] - 4s 13ms/step - loss: 0.4858 - accuracy: 0.8295 - val_loss: 0.5547 - val_accuracy: 0.8068\n",
            "Epoch 12/25\n",
            "297/297 [==============================] - 4s 13ms/step - loss: 0.4643 - accuracy: 0.8409 - val_loss: 0.5913 - val_accuracy: 0.7927\n",
            "Epoch 13/25\n",
            "297/297 [==============================] - 4s 13ms/step - loss: 0.4603 - accuracy: 0.8405 - val_loss: 0.5743 - val_accuracy: 0.8049\n",
            "\n",
            "Epoch 00013: ReduceLROnPlateau reducing learning rate to 1.0000000474974514e-05.\n",
            "Epoch 14/25\n",
            "297/297 [==============================] - 4s 13ms/step - loss: 0.4381 - accuracy: 0.8423 - val_loss: 0.5540 - val_accuracy: 0.8089\n",
            "Epoch 15/25\n",
            "297/297 [==============================] - 4s 13ms/step - loss: 0.4345 - accuracy: 0.8429 - val_loss: 0.5544 - val_accuracy: 0.8093\n",
            "Epoch 16/25\n",
            "297/297 [==============================] - 4s 13ms/step - loss: 0.4252 - accuracy: 0.8528 - val_loss: 0.5534 - val_accuracy: 0.8108\n",
            "Epoch 17/25\n",
            "297/297 [==============================] - 4s 13ms/step - loss: 0.4145 - accuracy: 0.8536 - val_loss: 0.5556 - val_accuracy: 0.8106\n",
            "Epoch 18/25\n",
            "297/297 [==============================] - 4s 13ms/step - loss: 0.4167 - accuracy: 0.8536 - val_loss: 0.5537 - val_accuracy: 0.8106\n",
            "\n",
            "Epoch 00018: ReduceLROnPlateau reducing learning rate to 1.0000000656873453e-06.\n",
            "Epoch 19/25\n",
            "297/297 [==============================] - 4s 13ms/step - loss: 0.4326 - accuracy: 0.8486 - val_loss: 0.5539 - val_accuracy: 0.8102\n",
            "Epoch 20/25\n",
            "297/297 [==============================] - 4s 13ms/step - loss: 0.4149 - accuracy: 0.8501 - val_loss: 0.5539 - val_accuracy: 0.8104\n",
            "\n",
            "Epoch 00020: ReduceLROnPlateau reducing learning rate to 1.0000001111620805e-07.\n"
          ],
          "name": "stdout"
        }
      ]
    },
    {
      "cell_type": "code",
      "metadata": {
        "colab": {
          "base_uri": "https://localhost:8080/"
        },
        "id": "0Z9vBj2HwRTA",
        "outputId": "58377f9a-cb30-4f87-f363-e492bbe54dc6"
      },
      "source": [
        "valid_score = eth_model.evaluate(X_test, y_test, verbose=1)"
      ],
      "execution_count": 48,
      "outputs": [
        {
          "output_type": "stream",
          "text": [
            "149/149 [==============================] - 1s 4ms/step - loss: 0.5539 - accuracy: 0.8104\n"
          ],
          "name": "stdout"
        }
      ]
    },
    {
      "cell_type": "code",
      "metadata": {
        "colab": {
          "base_uri": "https://localhost:8080/"
        },
        "id": "KRa6X0YlwRTB",
        "outputId": "7aa3e14b-a51f-433b-a929-a1060f9f7665"
      },
      "source": [
        "y_pred = eth_model.predict_classes(X_test)"
      ],
      "execution_count": 49,
      "outputs": [
        {
          "output_type": "stream",
          "text": [
            "/usr/local/lib/python3.7/dist-packages/tensorflow/python/keras/engine/sequential.py:450: UserWarning:\n",
            "\n",
            "`model.predict_classes()` is deprecated and will be removed after 2021-01-01. Please use instead:* `np.argmax(model.predict(x), axis=-1)`,   if your model does multi-class classification   (e.g. if it uses a `softmax` last-layer activation).* `(model.predict(x) > 0.5).astype(\"int32\")`,   if your model does binary classification   (e.g. if it uses a `sigmoid` last-layer activation).\n",
            "\n"
          ],
          "name": "stderr"
        }
      ]
    },
    {
      "cell_type": "code",
      "metadata": {
        "id": "zxXxRqnGwRTB"
      },
      "source": [
        "# Convert to 0 to 4 scale \n",
        "y_test_labels = [np.argmax(i) for i in y_test]"
      ],
      "execution_count": 50,
      "outputs": []
    },
    {
      "cell_type": "code",
      "metadata": {
        "colab": {
          "base_uri": "https://localhost:8080/"
        },
        "id": "9MJfzv5RwRTC",
        "outputId": "a712f764-c7e1-4c28-b7ad-e288d37f9257"
      },
      "source": [
        "print(classification_report(y_test_labels, y_pred))"
      ],
      "execution_count": 51,
      "outputs": [
        {
          "output_type": "stream",
          "text": [
            "              precision    recall  f1-score   support\n",
            "\n",
            "           0       0.82      0.90      0.86      2047\n",
            "           1       0.85      0.85      0.85       904\n",
            "           2       0.85      0.86      0.86       657\n",
            "           3       0.73      0.78      0.75       804\n",
            "           4       0.48      0.12      0.19       329\n",
            "\n",
            "    accuracy                           0.81      4741\n",
            "   macro avg       0.75      0.70      0.70      4741\n",
            "weighted avg       0.79      0.81      0.79      4741\n",
            "\n"
          ],
          "name": "stdout"
        }
      ]
    },
    {
      "cell_type": "code",
      "metadata": {
        "colab": {
          "base_uri": "https://localhost:8080/",
          "height": 268
        },
        "id": "zJCuT0AqwRTC",
        "outputId": "3846c4a7-77c0-4acb-de42-6c691cda3fa8"
      },
      "source": [
        "# Confusion matrix\n",
        "cm = confusion_matrix(y_test_labels, y_pred)\n",
        "\n",
        "np.fill_diagonal(cm, 0) #Fill diagonal with 0 for better visualisation\n",
        "sns.heatmap(cm, annot=True, fmt='d', cbar=False, cmap='Greens');"
      ],
      "execution_count": 52,
      "outputs": [
        {
          "output_type": "display_data",
          "data": {
            "image/png": "[encoded data removed]",
            "text/plain": [
              "<Figure size 432x288 with 1 Axes>"
            ]
          },
          "metadata": {
            "tags": []
          }
        }
      ]
    },
    {
      "cell_type": "code",
      "metadata": {
        "id": "Ux30ENgmwRTD"
      },
      "source": [
        "def face_prediction(image):\n",
        "    \n",
        "    x = image.reshape(1, 48, 48, 1)\n",
        "    x = x / 255\n",
        "    \n",
        "    age_predict = int(age_model.predict(x))\n",
        "    gender_predict = int(gender_model.predict_classes(x))\n",
        "    ethnicity_predict = int(eth_model.predict_classes(x))\n",
        "    \n",
        "    gender = {0: 'Male', 1: 'Female'}\n",
        "    eth_group = {0: 'White', 1: 'Black', 2: 'Asian', 3: 'Indian', 4: 'Other'} \n",
        "    plt.imshow(image)\n",
        "    plt.title('{0}, {1}, {2}'.format(age_predict, gender[gender_predict], eth_group[ethnicity_predict]))\n",
        "    plt.axis('off')"
      ],
      "execution_count": 53,
      "outputs": []
    },
    {
      "cell_type": "code",
      "metadata": {
        "colab": {
          "base_uri": "https://localhost:8080/",
          "height": 264
        },
        "id": "piuyHcwlwRTD",
        "outputId": "fad3d0fd-3f0a-4df0-f254-16939e7071ba"
      },
      "source": [
        "# Final check\n",
        "random_face = np.random.choice(len(data))\n",
        "\n",
        "age = data['age'][random_face]\n",
        "ethnicity = data['ethnicity'][random_face]\n",
        "gender = data['gender'][random_face]\n",
        "\n",
        "plt.imshow(data['pixels'][random_face])\n",
        "plt.title('Age: {0}, Sex: {1}, Ethnicity: {2},'.format(age, gender, ethnicity))\n",
        "plt.axis('off');"
      ],
      "execution_count": 55,
      "outputs": [
        {
          "output_type": "display_data",
          "data": {
            "image/png": "[encoded data removed]",
            "text/plain": [
              "<Figure size 432x288 with 1 Axes>"
            ]
          },
          "metadata": {
            "tags": []
          }
        }
      ]
    },
    {
      "cell_type": "code",
      "metadata": {
        "id": "zprB58DcwRTE"
      },
      "source": [
        "# the prediction of the age gender and ethnicity by the CNN model"
      ],
      "execution_count": 56,
      "outputs": []
    },
    {
      "cell_type": "code",
      "metadata": {
        "colab": {
          "base_uri": "https://localhost:8080/",
          "height": 354
        },
        "id": "oIcAy1oPwRTE",
        "outputId": "0f4b5e4a-9a4f-4fd6-eb14-e4d45a9cccf5"
      },
      "source": [
        "face_prediction(data['pixels'][random_face])"
      ],
      "execution_count": 57,
      "outputs": [
        {
          "output_type": "stream",
          "text": [
            "/usr/local/lib/python3.7/dist-packages/tensorflow/python/keras/engine/sequential.py:450: UserWarning:\n",
            "\n",
            "`model.predict_classes()` is deprecated and will be removed after 2021-01-01. Please use instead:* `np.argmax(model.predict(x), axis=-1)`,   if your model does multi-class classification   (e.g. if it uses a `softmax` last-layer activation).* `(model.predict(x) > 0.5).astype(\"int32\")`,   if your model does binary classification   (e.g. if it uses a `sigmoid` last-layer activation).\n",
            "\n"
          ],
          "name": "stderr"
        },
        {
          "output_type": "display_data",
          "data": {
            "image/png": "[encoded data removed]",
            "text/plain": [
              "<Figure size 432x288 with 1 Axes>"
            ]
          },
          "metadata": {
            "tags": []
          }
        }
      ]
    },
    {
      "cell_type": "code",
      "metadata": {
        "id": "W5wXWotE240r"
      },
      "source": [
        ""
      ],
      "execution_count": null,
      "outputs": []
    }
  ]
}